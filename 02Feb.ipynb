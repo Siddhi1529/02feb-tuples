{
  "nbformat": 4,
  "nbformat_minor": 0,
  "metadata": {
    "colab": {
      "provenance": []
    },
    "kernelspec": {
      "name": "python3",
      "display_name": "Python 3"
    },
    "language_info": {
      "name": "python"
    }
  },
  "cells": [
    {
      "cell_type": "markdown",
      "source": [
        "Q1. What are the characteristics of the tuples? Is tuple immutable?\n"
      ],
      "metadata": {
        "id": "ApxJbVjygkG_"
      }
    },
    {
      "cell_type": "markdown",
      "source": [
        "Characteristics of tuples are as follows-\n",
        "\n",
        "1. They are always stored in an ordered format.\n",
        "\n",
        "2. Tuples are immutable in nature, you cannot change elements once created nor can you modify.\n",
        "\n",
        "3. Tuples can store data of multiple data types like strings, int, float,etc.\n",
        "\n",
        "4. Tuples can contain duplicate values."
      ],
      "metadata": {
        "id": "XJ4PqdhWhBFe"
      }
    },
    {
      "cell_type": "code",
      "source": [],
      "metadata": {
        "id": "Bdabb-rhgldM"
      },
      "execution_count": null,
      "outputs": []
    },
    {
      "cell_type": "markdown",
      "source": [
        "Q2. What are the two tuple methods in python? Give an example of each method. Give a reason why\n",
        "tuples have only two in-built methods as compared to Lists.\n"
      ],
      "metadata": {
        "id": "YWJqNXqwglkF"
      }
    },
    {
      "cell_type": "code",
      "source": [
        "# method one - count() - to return how many times a spceific element is repeated in a tuple\n",
        "\n",
        "tuple1 = (1,2,2,4,5,5,6,3,3)\n",
        "print(tuple1)"
      ],
      "metadata": {
        "colab": {
          "base_uri": "https://localhost:8080/"
        },
        "id": "tvVtSFlygmoF",
        "outputId": "77681b97-3a68-45b1-9159-e1a0761eaead"
      },
      "execution_count": 1,
      "outputs": [
        {
          "output_type": "stream",
          "name": "stdout",
          "text": [
            "(1, 2, 2, 4, 5, 5, 6, 3, 3)\n"
          ]
        }
      ]
    },
    {
      "cell_type": "code",
      "source": [
        "print(tuple1.count(2))"
      ],
      "metadata": {
        "colab": {
          "base_uri": "https://localhost:8080/"
        },
        "id": "wg8s71Wcjgfd",
        "outputId": "264792c7-bc02-4c6d-87b6-80146ed8f8ed"
      },
      "execution_count": 3,
      "outputs": [
        {
          "output_type": "stream",
          "name": "stdout",
          "text": [
            "2\n"
          ]
        }
      ]
    },
    {
      "cell_type": "code",
      "source": [
        "#method two - index() - returns the first index position of a specified element\n",
        "\n",
        "print(tuple1.index(3))"
      ],
      "metadata": {
        "colab": {
          "base_uri": "https://localhost:8080/"
        },
        "id": "2yl1EDlgjp-Y",
        "outputId": "a84b9cb4-c312-4d31-f587-92ae6fad8dcd"
      },
      "execution_count": 5,
      "outputs": [
        {
          "output_type": "stream",
          "name": "stdout",
          "text": [
            "7\n"
          ]
        }
      ]
    },
    {
      "cell_type": "markdown",
      "source": [
        "Tuples are immutable in nature, while list on the other hand are mutable. Lists being mutable can be modified and hence there are more methods comapred to tuples."
      ],
      "metadata": {
        "id": "bwkLJ0DZlkLz"
      }
    },
    {
      "cell_type": "code",
      "source": [],
      "metadata": {
        "id": "tUaeBvlMjqBg"
      },
      "execution_count": null,
      "outputs": []
    },
    {
      "cell_type": "markdown",
      "source": [
        "Q3. Which collection datatypes in python do not allow duplicate items? Write a code using a set to remove\n",
        "duplicates from the given list.\n",
        "List = [1, 1, 1, 2, 1, 3, 1, 4, 2, 1, 2, 2, 2, 3, 2, 4, 3, 1, 3, 2, 3, 3, 3, 4, 4, 1, 4, 2, 4, 3, 4, 4]\n"
      ],
      "metadata": {
        "id": "xMCtySgqgmvJ"
      }
    },
    {
      "cell_type": "markdown",
      "source": [
        "Sets dont allow duplicate items.\n",
        "So we can convert a list into set to remove all the dupliacte values."
      ],
      "metadata": {
        "id": "i30qijGxmFQQ"
      }
    },
    {
      "cell_type": "code",
      "source": [
        "list1 = [1, 1, 1, 2, 1, 3, 1, 4, 2, 1, 2, 2, 2, 3, 2, 4, 3, 1, 3, 2, 3, 3, 3, 4, 4, 1, 4, 2, 4, 3, 4, 4]"
      ],
      "metadata": {
        "id": "TYLVotOJgoCv"
      },
      "execution_count": 6,
      "outputs": []
    },
    {
      "cell_type": "code",
      "source": [
        "# convert to set and then back to a list\n",
        "new_list = list(set(list1))\n",
        "print(new_list)"
      ],
      "metadata": {
        "colab": {
          "base_uri": "https://localhost:8080/"
        },
        "id": "Uar-T4YomAkM",
        "outputId": "6dcc88b4-7935-4848-9a5c-a1e2f88ebd2b"
      },
      "execution_count": 7,
      "outputs": [
        {
          "output_type": "stream",
          "name": "stdout",
          "text": [
            "[1, 2, 3, 4]\n"
          ]
        }
      ]
    },
    {
      "cell_type": "markdown",
      "source": [
        "Q4. Explain the difference between the union() and update() methods for a set. Give an example of\n",
        "each method.\n"
      ],
      "metadata": {
        "id": "TYPrkJ7vgoJk"
      }
    },
    {
      "cell_type": "markdown",
      "source": [
        "union() - this returns the entire collection of elements from both the sets passed to this method, - creates a new set\n",
        "\n",
        "update() - this does not a new set, rather adds elements to the original set"
      ],
      "metadata": {
        "id": "TWJUNvSgm02H"
      }
    },
    {
      "cell_type": "code",
      "source": [
        "set1 = {1,2,3,4}\n",
        "set2 = {3,4,5,6}"
      ],
      "metadata": {
        "id": "OJeBJK57gpac"
      },
      "execution_count": 21,
      "outputs": []
    },
    {
      "cell_type": "code",
      "source": [
        "result_set = set1.union(set2)\n",
        "print(result_set)"
      ],
      "metadata": {
        "colab": {
          "base_uri": "https://localhost:8080/"
        },
        "id": "FQ4YZnu5nVka",
        "outputId": "fe81354a-78a9-47d2-c830-b8b2c7ac410d"
      },
      "execution_count": 22,
      "outputs": [
        {
          "output_type": "stream",
          "name": "stdout",
          "text": [
            "{1, 2, 3, 4, 5, 6}\n"
          ]
        }
      ]
    },
    {
      "cell_type": "code",
      "source": [
        "set1.update(set2)\n",
        "print(set1)"
      ],
      "metadata": {
        "colab": {
          "base_uri": "https://localhost:8080/"
        },
        "id": "JhE4SOGlnfW5",
        "outputId": "89f20231-c2b9-4025-f55c-fc6c78985aa5"
      },
      "execution_count": 23,
      "outputs": [
        {
          "output_type": "stream",
          "name": "stdout",
          "text": [
            "{1, 2, 3, 4, 5, 6}\n"
          ]
        }
      ]
    },
    {
      "cell_type": "code",
      "source": [],
      "metadata": {
        "id": "BAldsyjzoJ3U"
      },
      "execution_count": null,
      "outputs": []
    },
    {
      "cell_type": "markdown",
      "source": [
        "Q5. What is a dictionary? Give an example. Also, state whether a dictionary is ordered or unordered.\n"
      ],
      "metadata": {
        "id": "FToAzFMigphM"
      }
    },
    {
      "cell_type": "markdown",
      "source": [
        "Dictonaries are collection of data types stored in a key-value pairs.\n",
        "A dictonary is mutable in nature hence can be edited or deleted."
      ],
      "metadata": {
        "id": "WQJvOw9no3Qo"
      }
    },
    {
      "cell_type": "code",
      "source": [
        "student_info = {\n",
        "    \"name\": \"Ben\",\n",
        "    \"age\": 21,\n",
        "    \"major\": \"Maths\",\n",
        "    \"grades\": [88, 92, 79]\n",
        "}\n",
        "\n",
        "print(student_info)\n"
      ],
      "metadata": {
        "colab": {
          "base_uri": "https://localhost:8080/"
        },
        "id": "9Hp6grgngqwt",
        "outputId": "48468785-b93b-40a7-a165-f7f255ff6429"
      },
      "execution_count": 24,
      "outputs": [
        {
          "output_type": "stream",
          "name": "stdout",
          "text": [
            "{'name': 'Ben', 'age': 21, 'major': 'Maths', 'grades': [88, 92, 79]}\n"
          ]
        }
      ]
    },
    {
      "cell_type": "code",
      "source": [],
      "metadata": {
        "id": "SIK3p9XfpQ0b"
      },
      "execution_count": null,
      "outputs": []
    },
    {
      "cell_type": "markdown",
      "source": [
        "Q6. Can we create a nested dictionary? If so, please give an example by creating a simple one-level\n",
        "nested dictionary.\n"
      ],
      "metadata": {
        "id": "DyjajTFlgq1v"
      }
    },
    {
      "cell_type": "markdown",
      "source": [
        "A nested dictonary is a dictonary within dictonary and can be created."
      ],
      "metadata": {
        "id": "vuafLV6SqoBB"
      }
    },
    {
      "cell_type": "code",
      "source": [
        "fruits = {\n",
        "    \"apple\": {\n",
        "        \"color\": \"red\",\n",
        "        \"price_per_pound\": 1.2,\n",
        "        \"availability\": \"year-round\"\n",
        "    },\n",
        "    \"banana\": {\n",
        "        \"color\": \"yellow\",\n",
        "        \"price_per_pound\": 0.5,\n",
        "        \"availability\": \"year-round\"\n",
        "    },\n",
        "    \"cherry\": {\n",
        "        \"color\": \"red\",\n",
        "        \"price_per_pound\": 3.0,\n",
        "        \"availability\": \"summer\"\n",
        "    },\n",
        "    \"orange\": {\n",
        "        \"color\": \"orange\",\n",
        "        \"price_per_pound\": 1.1,\n",
        "        \"availability\": \"winter\"\n",
        "    }\n",
        "}\n",
        "\n",
        "print(fruits)\n"
      ],
      "metadata": {
        "colab": {
          "base_uri": "https://localhost:8080/"
        },
        "id": "yFLqJozvgsEb",
        "outputId": "b526034a-2f0c-4325-83af-93b1ab028fca"
      },
      "execution_count": 25,
      "outputs": [
        {
          "output_type": "stream",
          "name": "stdout",
          "text": [
            "{'apple': {'color': 'red', 'price_per_pound': 1.2, 'availability': 'year-round'}, 'banana': {'color': 'yellow', 'price_per_pound': 0.5, 'availability': 'year-round'}, 'cherry': {'color': 'red', 'price_per_pound': 3.0, 'availability': 'summer'}, 'orange': {'color': 'orange', 'price_per_pound': 1.1, 'availability': 'winter'}}\n"
          ]
        }
      ]
    },
    {
      "cell_type": "code",
      "source": [
        "# lets check the price of cherries\n",
        "print(fruits[\"cherry\"][\"price_per_pound\"])"
      ],
      "metadata": {
        "colab": {
          "base_uri": "https://localhost:8080/"
        },
        "id": "Ou-vMZmSsHSn",
        "outputId": "3c969b47-0c33-4de4-8d16-307a4cc57187"
      },
      "execution_count": 26,
      "outputs": [
        {
          "output_type": "stream",
          "name": "stdout",
          "text": [
            "3.0\n"
          ]
        }
      ]
    },
    {
      "cell_type": "code",
      "source": [],
      "metadata": {
        "id": "JruZSxcGsOXe"
      },
      "execution_count": null,
      "outputs": []
    },
    {
      "cell_type": "markdown",
      "source": [
        "Q7. Using setdefault() method, create key named topics in the given dictionary and also add the value of\n",
        "the key as this list ['Python', 'Machine Learning’, 'Deep Learning']\n",
        "dict1 = {'language' : 'Python', 'course': 'Data Science Masters'}\n"
      ],
      "metadata": {
        "id": "80rZNc3wgsMn"
      }
    },
    {
      "cell_type": "code",
      "source": [
        "dict1 = {'language': 'Python', 'course': 'Data Science Masters'}\n",
        "\n",
        "# Using setdefault() to add the 'topics' key with a list as its value\n",
        "dict1.setdefault('topics', ['Python', 'Machine Learning', 'Deep Learning'])\n",
        "\n",
        "print(dict1)\n"
      ],
      "metadata": {
        "colab": {
          "base_uri": "https://localhost:8080/"
        },
        "id": "p4XkYwSFgtNf",
        "outputId": "5e196832-096f-4344-a574-baf94fd6dcdc"
      },
      "execution_count": 27,
      "outputs": [
        {
          "output_type": "stream",
          "name": "stdout",
          "text": [
            "{'language': 'Python', 'course': 'Data Science Masters', 'topics': ['Python', 'Machine Learning', 'Deep Learning']}\n"
          ]
        }
      ]
    },
    {
      "cell_type": "code",
      "source": [],
      "metadata": {
        "id": "fpbxwF85saQh"
      },
      "execution_count": null,
      "outputs": []
    },
    {
      "cell_type": "markdown",
      "source": [
        "Q8. What are the three view objects in dictionaries? Use the three in-built methods in python to display\n",
        "these three view objects for the given dictionary.\n",
        "dict1 = {'Sport': 'Cricket' , 'Teams': ['India', 'Australia', 'England', 'South Africa', 'Sri Lanka', 'New Zealand']}"
      ],
      "metadata": {
        "id": "pK3dcEiWgtT6"
      }
    },
    {
      "cell_type": "code",
      "source": [
        "dict1 = {'Sport': 'Cricket' , 'Teams': ['India', 'Australia', 'England', 'South Africa', 'Sri Lanka', 'New Zealand']}"
      ],
      "metadata": {
        "id": "TL60cP9-gtxl"
      },
      "execution_count": 28,
      "outputs": []
    },
    {
      "cell_type": "code",
      "source": [
        "# the keys view\n",
        "keys_view = dict1.keys()\n",
        "print(\"Keys:\", keys_view)"
      ],
      "metadata": {
        "colab": {
          "base_uri": "https://localhost:8080/"
        },
        "id": "WFEjVV-Fsh7R",
        "outputId": "04a73f2f-ec62-4bde-a98d-433cb72f74ef"
      },
      "execution_count": 29,
      "outputs": [
        {
          "output_type": "stream",
          "name": "stdout",
          "text": [
            "Keys: dict_keys(['Sport', 'Teams'])\n"
          ]
        }
      ]
    },
    {
      "cell_type": "code",
      "source": [
        "# the values view\n",
        "values_view = dict1.values()\n",
        "print(\"Values:\", values_view)"
      ],
      "metadata": {
        "colab": {
          "base_uri": "https://localhost:8080/"
        },
        "id": "LZSTC9mtsh-Q",
        "outputId": "56ff63e5-00a1-432e-f718-7af8bf986ee1"
      },
      "execution_count": 30,
      "outputs": [
        {
          "output_type": "stream",
          "name": "stdout",
          "text": [
            "Values: dict_values(['Cricket', ['India', 'Australia', 'England', 'South Africa', 'Sri Lanka', 'New Zealand']])\n"
          ]
        }
      ]
    },
    {
      "cell_type": "code",
      "source": [
        "#  the items view\n",
        "items_view = dict1.items()\n",
        "print(\"Items:\", items_view)"
      ],
      "metadata": {
        "colab": {
          "base_uri": "https://localhost:8080/"
        },
        "id": "K5wkH8C6siJQ",
        "outputId": "cc2a718e-a4a7-4a13-a7d2-ad212ef3dc58"
      },
      "execution_count": 31,
      "outputs": [
        {
          "output_type": "stream",
          "name": "stdout",
          "text": [
            "Items: dict_items([('Sport', 'Cricket'), ('Teams', ['India', 'Australia', 'England', 'South Africa', 'Sri Lanka', 'New Zealand'])])\n"
          ]
        }
      ]
    }
  ]
}